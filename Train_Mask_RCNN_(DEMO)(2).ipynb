{
  "nbformat": 4,
  "nbformat_minor": 0,
  "metadata": {
    "kernelspec": {
      "display_name": "Python 3",
      "language": "python",
      "name": "python3"
    },
    "language_info": {
      "codemirror_mode": {
        "name": "ipython",
        "version": 3
      },
      "file_extension": ".py",
      "mimetype": "text/x-python",
      "name": "python",
      "nbconvert_exporter": "python",
      "pygments_lexer": "ipython3",
      "version": "3.7.9"
    },
    "colab": {
      "name": "Train_Mask_RCNN_(DEMO)(2).ipynb",
      "provenance": [],
      "collapsed_sections": [
        "rGWTPWBIx370",
        "Omb3Yl6ABqiJ",
        "Z9k3Wm0_BqiN",
        "6npLKIL3BqiO"
      ]
    },
    "accelerator": "GPU"
  },
  "cells": [
    {
      "cell_type": "markdown",
      "metadata": {
        "id": "rGWTPWBIx370"
      },
      "source": [
        "## **1. Installation**\n",
        "\n",
        "Load your dataset"
      ]
    },
    {
      "cell_type": "code",
      "metadata": {
        "id": "Md87Hxgtn6zi"
      },
      "source": [
        "%tensorflow_version 1.x\n",
        "!pip install --upgrade h5py==2.10.0\n",
        "!wget https://pysource.com/extra_files/Mask_RCNN_basic_1.zip\n",
        "!unzip Mask_RCNN_basic_1.zip\n",
        "import sys\n",
        "sys.path.append(\"/content/Mask_RCNN/mrcnn\")\n",
        "from m_rcnn import *\n",
        "%matplotlib inline"
      ],
      "execution_count": null,
      "outputs": []
    },
    {
      "cell_type": "code",
      "metadata": {
        "id": "JvM9sdw3Vou_"
      },
      "source": [
        "!nvidia-smi"
      ],
      "execution_count": null,
      "outputs": []
    },
    {
      "cell_type": "markdown",
      "metadata": {
        "id": "Omb3Yl6ABqiJ"
      },
      "source": [
        "## **2. Image Dataset**\n",
        "\n",
        "Load your annotated dataset\n"
      ]
    },
    {
      "cell_type": "code",
      "metadata": {
        "id": "IlNYqGhvqb_p"
      },
      "source": [
        "# Extract Images\n",
        "images_path = \"images.zip\"\n",
        "annotations_path = \"annotations.json\"\n",
        "\n",
        "extract_images(os.path.join(\"/content/\",images_path), \"/content/dataset\")"
      ],
      "execution_count": null,
      "outputs": []
    },
    {
      "cell_type": "code",
      "metadata": {
        "id": "MnW8ETPKzqFT"
      },
      "source": [
        "dataset_train = load_image_dataset(os.path.join(\"/content/\", annotations_path), \"/content/dataset\", \"train\")\n",
        "dataset_val = load_image_dataset(os.path.join(\"/content/\", annotations_path), \"/content/dataset\", \"val\")\n",
        "class_number = dataset_train.count_classes()\n",
        "print('Train: %d' % len(dataset_train.image_ids))\n",
        "print('Validation: %d' % len(dataset_val.image_ids))\n",
        "print(\"Classes: {}\".format(class_number))"
      ],
      "execution_count": null,
      "outputs": []
    },
    {
      "cell_type": "code",
      "metadata": {
        "id": "umeaqvVeBqiL"
      },
      "source": [
        "# Load image samples\n",
        "display_image_samples(dataset_train)"
      ],
      "execution_count": null,
      "outputs": []
    },
    {
      "cell_type": "markdown",
      "metadata": {
        "id": "Z9k3Wm0_BqiN"
      },
      "source": [
        "##**3. Training**\n",
        "\n",
        "Train Mask RCNN on your custom Dataset."
      ]
    },
    {
      "cell_type": "code",
      "metadata": {
        "id": "axkqWaZ7z_4p"
      },
      "source": [
        "# Load Configuration\n",
        "config = CustomConfig(class_number)\n",
        "#config.display()\n",
        "model = load_training_model(config)"
      ],
      "execution_count": null,
      "outputs": []
    },
    {
      "cell_type": "code",
      "metadata": {
        "scrolled": false,
        "id": "SyzLXzF5BqiN"
      },
      "source": [
        "# Start Training\n",
        "# This operation might take a long time.\n",
        "train_head(model, dataset_train, dataset_train, config)"
      ],
      "execution_count": null,
      "outputs": []
    },
    {
      "cell_type": "markdown",
      "metadata": {
        "id": "6npLKIL3BqiO"
      },
      "source": [
        "## **4. Detection (test your model on a random image)**"
      ]
    },
    {
      "cell_type": "code",
      "metadata": {
        "id": "lUwXQ6h7BqiO"
      },
      "source": [
        "# Load Test Model\n",
        "# The latest trained model will be loaded\n",
        "test_model, inference_config = load_test_model(class_number)"
      ],
      "execution_count": null,
      "outputs": []
    },
    {
      "cell_type": "code",
      "metadata": {
        "id": "H8uzE5U3BqiP"
      },
      "source": [
        "# Test on a random image\n",
        "test_random_image(test_model, dataset_val, inference_config)"
      ],
      "execution_count": null,
      "outputs": []
    }
  ]
}