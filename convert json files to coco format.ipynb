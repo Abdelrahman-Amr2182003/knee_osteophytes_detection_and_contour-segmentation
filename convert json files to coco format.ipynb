{
 "cells": [
  {
   "cell_type": "markdown",
   "id": "3c2270d0-38d7-41ed-9693-10bccf3f1d2f",
   "metadata": {},
   "source": [
    "## Transform multiple jsons from label me to coco format json"
   ]
  },
  {
   "cell_type": "code",
   "execution_count": null,
   "id": "90640282-3ba6-4da5-90c8-1c7d5666f371",
   "metadata": {},
   "outputs": [],
   "source": [
    "import json\n",
    "import glob\n",
    "import numpy as np\n",
    "dirr='images'\n",
    "def PolyArea(x,y):\n",
    "    return 0.5*np.abs(np.dot(x,np.roll(y,1))-np.dot(y,np.roll(x,1)))\n",
    "jsons=glob.glob(f'{dirr}/*.json')\n",
    "coco_json=dict()\n",
    "coco_json['info']={ \"description\": \"knee-instance-segmentation\"}\n",
    "coco_json['images']=[]\n",
    "coco_json['annotations']=[]\n",
    "coco_json[\"categories\"]= [{\"id\": 1,\"name\": \"knee\"}]\n",
    "c=0\n",
    "for ind,i in enumerate(jsons):\n",
    "    \n",
    "    \n",
    "    ### extract data \n",
    "    with open(i) as f:\n",
    "        file=json.load(f)\n",
    "        width=file['imageWidth']\n",
    "        height=file['imageHeight']\n",
    "        path=file['imagePath'].split('\\\\')[-1]\n",
    "        print(path)\n",
    "        shapes=file['shapes']\n",
    "        for shape in shapes:\n",
    "            pts=[]\n",
    "            xs=[]\n",
    "            ys=[]\n",
    "            bbox=[]\n",
    "            for j in shape['points']:\n",
    "                xs.append(float(j[0]))\n",
    "                ys.append(float(j[1]))\n",
    "                pts.append(float(j[0]))\n",
    "                pts.append(float(j[1]))\n",
    "            bbox=[min(xs),min(ys),max(xs),max(ys)]\n",
    "            area=PolyArea(np.array(xs),np.array(ys))\n",
    "            #print(area)\n",
    "            ann_dict={\"id\": c,\n",
    "              \"iscrowd\": 0,\n",
    "              \"image_id\": ind+1,\n",
    "              \"category_id\": 1,\n",
    "              \"segmentation\":[pts],\n",
    "              \"bbox\": bbox,\n",
    "              \"area\": area\n",
    "                     }\n",
    "            coco_json[\"annotations\"].append(ann_dict)\n",
    "            c+=1\n",
    "        \n",
    "    ### create coco_json\n",
    "    img_dict={\n",
    "      \"id\": ind+1,\n",
    "      \"width\": width,\n",
    "      \"height\": height,\n",
    "      \"file_name\": path\n",
    "    }\n",
    "    coco_json['images'].append(img_dict)\n",
    "    \n",
    "    \n",
    "with open('data.json','w') as fp:\n",
    "    json.dump(coco_json,fp)\n",
    "    "
   ]
  }
 ],
 "metadata": {
  "kernelspec": {
   "display_name": "Python 3",
   "language": "python",
   "name": "python3"
  },
  "language_info": {
   "codemirror_mode": {
    "name": "ipython",
    "version": 3
   },
   "file_extension": ".py",
   "mimetype": "text/x-python",
   "name": "python",
   "nbconvert_exporter": "python",
   "pygments_lexer": "ipython3",
   "version": "3.7.11"
  }
 },
 "nbformat": 4,
 "nbformat_minor": 5
}
